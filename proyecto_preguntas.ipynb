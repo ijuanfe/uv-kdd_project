{
 "cells": [
  {
   "cell_type": "markdown",
   "metadata": {
    "id": "F8XlHzfiFxsS"
   },
   "source": [
    "# Proyecto final KDD\n",
    "\n",
    "**Docente: Andrés Castillo**"
   ]
  },
  {
   "cell_type": "markdown",
   "metadata": {
    "id": "UNruDgdibTrW"
   },
   "source": [
    "**Autores**:\n",
    "- Juan Camilo Sanchez Barreiro - 1527749\n",
    "- Juan Felipe Orozco Escobar - 1426244"
   ]
  },
  {
   "cell_type": "markdown",
   "metadata": {
    "id": "CijmgchyFxsX"
   },
   "source": [
    "## Introdución\n",
    "\n",
    "La estimación de los precios de la vivienda es esencial tanto para los propietarios como para los inversores, ya que ambos necesitan entender el valor de este activo inmobiliario. \n",
    "Para muchas personas, comprar una propiedad es una de las decisiones y compra más importantes en la vida. Además de la asequibilidad de una vivienda, otros factores, \n",
    "como la conveniencia del lugar y las perspectivas de inversión a largo plazo, también afectan\n",
    "el proceso de toma de decisiones.\n",
    "El mercado inmobiliario está expuesto a muchas fluctuaciones en los precios debido a las correlaciones existentes con muchas variables, algunas de las cuales no se pueden controlar\n",
    "o incluso pueden ser desconocidas. Los precios de las viviendas pueden aumentar rápidamente (o en algunos casos, también bajan muy rápido).\n",
    "Algunas aplicaciones para un banco son:\n",
    "- Originación: Establecer el valor comercial del inmueble a financiar utilizado para la aprobación final.\n",
    "- Retanqueo: Actualizar el valor comercial de garantía ya existente para aprobación de nuevos cupos de crédito.\n",
    "- Monitoreo portafolio garantías: Valoración del portafolio de las garantías para cumplimiento normativo y para el análisis de riesgos del colateral.\n",
    "- Normalización de cartera: Evaluar los préstamos existentes, evaluar los acuerdos de refinanciamiento Y daciones en pago.\n",
    "\n",
    "## Objetivo:\n",
    "El objetivo de este proyecto es que el estudiante aplique los temas vistos en la clase de Descubrimiento de Conocimiento para resolver un problema del mundo real, con datos reales. Lea cuidadosamente las instrucciones contenidas en el archivo \"descripcion_prueba.pdf\". Allí están los detalles iniciales de la prueba. Para este curso, se evaluará adicionalmente el desarrollo de los puntos de este notebook. \n",
    "\n",
    "Para resolver este problema, usted debe seguir las instrucciones especificas que se dan en cada parte del notebook. Al final, usted debe entregar una copia de este notebook junto con unas conclusiones finales que usted debe sacar y que deben estar contenidas al final del documento.\n",
    "\n",
    "Cómo es usual, para empezar, debemos importar todas las librerías que vamos a necesitar. Asegurese de instalar la librería XGBoost para su sistema operativo y todas las demás, hasta que no encuentre ningún error al correr la siguiente celda:"
   ]
  },
  {
   "cell_type": "code",
   "execution_count": 1,
   "metadata": {
    "id": "RVeLv1DzFxsY"
   },
   "outputs": [
    {
     "ename": "ModuleNotFoundError",
     "evalue": "No module named 'xgboost'",
     "output_type": "error",
     "traceback": [
      "\u001b[0;31m---------------------------------------------------------------------------\u001b[0m",
      "\u001b[0;31mModuleNotFoundError\u001b[0m                       Traceback (most recent call last)",
      "\u001b[0;32m<ipython-input-1-76e3b26b30e3>\u001b[0m in \u001b[0;36m<module>\u001b[0;34m\u001b[0m\n\u001b[1;32m      8\u001b[0m \u001b[0;32mimport\u001b[0m \u001b[0msklearn\u001b[0m\u001b[0;34m\u001b[0m\u001b[0;34m\u001b[0m\u001b[0m\n\u001b[1;32m      9\u001b[0m \u001b[0;32mfrom\u001b[0m \u001b[0msklearn\u001b[0m \u001b[0;32mimport\u001b[0m \u001b[0mtree\u001b[0m\u001b[0;34m\u001b[0m\u001b[0;34m\u001b[0m\u001b[0m\n\u001b[0;32m---> 10\u001b[0;31m \u001b[0;32mimport\u001b[0m \u001b[0mxgboost\u001b[0m\u001b[0;34m\u001b[0m\u001b[0;34m\u001b[0m\u001b[0m\n\u001b[0m\u001b[1;32m     11\u001b[0m \u001b[0;32mfrom\u001b[0m \u001b[0msklearn\u001b[0m\u001b[0;34m.\u001b[0m\u001b[0mmodel_selection\u001b[0m \u001b[0;32mimport\u001b[0m \u001b[0mtrain_test_split\u001b[0m\u001b[0;34m\u001b[0m\u001b[0;34m\u001b[0m\u001b[0m\n\u001b[1;32m     12\u001b[0m \u001b[0;32mfrom\u001b[0m \u001b[0msklearn\u001b[0m\u001b[0;34m.\u001b[0m\u001b[0mmetrics\u001b[0m \u001b[0;32mimport\u001b[0m \u001b[0mconfusion_matrix\u001b[0m\u001b[0;34m\u001b[0m\u001b[0;34m\u001b[0m\u001b[0m\n",
      "\u001b[0;31mModuleNotFoundError\u001b[0m: No module named 'xgboost'"
     ]
    }
   ],
   "source": [
    "# import the necessary packages\n",
    "\n",
    "import pandas as pd\n",
    "import numpy as np\n",
    "import argparse\n",
    "import glob\n",
    "from pandas import DataFrame\n",
    "import sklearn\n",
    "from sklearn import tree\n",
    "import xgboost\n",
    "from sklearn.model_selection import train_test_split\n",
    "from sklearn.metrics import confusion_matrix\n",
    "from datetime import datetime\n",
    "import matplotlib.pyplot as plt\n",
    "from sklearn.model_selection import GridSearchCV\n",
    "\n",
    "pd.set_option('display.max_rows', 500)"
   ]
  },
  {
   "cell_type": "markdown",
   "metadata": {
    "id": "QdNXTzY0FxsZ"
   },
   "source": [
    "Ahora definimos la funciones que nos ayudarán a evaluar el desempeño de nuestro modelo. Justo las mismas que se usaron en nuestro último ejercicio:"
   ]
  },
  {
   "cell_type": "code",
   "execution_count": null,
   "metadata": {
    "id": "LncO8xOsFxsa"
   },
   "outputs": [],
   "source": [
    "# Calcula el mean_absolute_percentage_error. El vector y_true no puede tener 0\n",
    "def mape(y_true, y_pred): \n",
    "    #y_true, y_pred = check_arrays(y_true, y_pred)\n",
    "    return np.mean(np.abs((y_true - y_pred) / y_true)) * 100\n",
    "\n",
    "def plotScatterModel(aX, aY, bX, bY, model):\n",
    "    paY = model.predict(aX)\n",
    "    pbY = model.predict(bX)\n",
    "    #Print the score on the train data\n",
    "    print('R2')\n",
    "    print({'Training': model.score(trainXX, trainY), 'Test': model.score(testXX, testY) })\n",
    "\n",
    "    print('\\nMAPE')\n",
    "    print({'Training ': mape(trainY, paY), 'Test': mape(testY, pbY)})\n",
    "\n",
    "    # declarando un objeto tipo Figura para desarrollar los subplots\n",
    "    fig = plt.figure(figsize=(20, 8))\n",
    "\n",
    "    ax = fig.add_subplot(1,2,1)\n",
    "    plt.scatter(aY, paY, s = 0.1)\n",
    "    plt.title('Correlation in training set')\n",
    "\n",
    "\n",
    "    ax2 = fig.add_subplot(1,2,2)\n",
    "    plt.scatter(bY, pbY, s = 0.1)\n",
    "    plt.title('Correlation in test set')"
   ]
  },
  {
   "cell_type": "markdown",
   "metadata": {
    "id": "3bOF9SgCFxsb"
   },
   "source": [
    "Junto con este notebook, usted encontrará un conjunto de archivos con los datos de datos de entranamiento. "
   ]
  },
  {
   "cell_type": "markdown",
   "metadata": {
    "id": "MzFL89ZyFxsb"
   },
   "source": [
    "!ls data"
   ]
  },
  {
   "cell_type": "markdown",
   "metadata": {
    "id": "ATUrQmQoFxsb"
   },
   "source": [
    "# Cargar los datos que usaremos\n",
    "\n",
    "Como es un conjunto de datos pequeño podemos cargar todo en memoría y trabajar de esta manera. Solo usaremos los archivos entrenamiento_precios_vivienda.csv  y prueba_precios_vivienda.csv. Note que los datos del archivo prueba_precios_vivienda.csv no contienen la columna de los precios de la vivienda. La idea de este archivo, es que usted complete dicha columna con los predicciones resultantes de su modelo, y mediante un proceso de validación externo, la compañia calcula el desempeño de este. Esta es una práctica muy común en pruebas de este tipo."
   ]
  },
  {
   "cell_type": "code",
   "execution_count": null,
   "metadata": {
    "id": "OugImI7vFxsb"
   },
   "outputs": [],
   "source": [
    "#Cargamos los datasets\n",
    "low_memory=False\n",
    "dataTrain = pd.read_csv('https://raw.githubusercontent.com/ijuanfe/uv-kdd_project/main/entrenamiento_precios_vivienda.csv', dtype=str)\n",
    "dataTest = pd.read_csv('https://raw.githubusercontent.com/ijuanfe/uv-kdd_project/main/prueba_precios_vivienda.csv', dtype=str)"
   ]
  },
  {
   "cell_type": "code",
   "execution_count": null,
   "metadata": {
    "colab": {
     "base_uri": "https://localhost:8080/",
     "height": 483
    },
    "id": "019hR0xvFxsc",
    "outputId": "b3d38876-cedc-4aaf-e4e0-d5d8b21f19a4"
   },
   "outputs": [],
   "source": [
    "# Asignar el campo id como índice del dataframe\n",
    "dataTrain['id'] = pd.to_numeric(dataTrain['id'], errors='coerce')\n",
    "dataTest['id'] = pd.to_numeric(dataTest['id'], errors='coerce')\n",
    "\n",
    "dataTrain = dataTrain.set_index('id')\n",
    "dataTest =  dataTest.set_index('id')\n",
    "#dataTrain = dataTrain.drop(['id'], axis = 1)\n",
    "pd.set_option('display.max_rows', 500)\n",
    "pd.set_option('display.max_columns', 500)\n",
    "\n",
    "dataTrain.head()"
   ]
  },
  {
   "cell_type": "markdown",
   "metadata": {
    "id": "2PmFMm4xFxsd"
   },
   "source": [
    "# Removemos todos los caracteres especiales y pasar todas las cadenas a mayúsculas\n"
   ]
  },
  {
   "cell_type": "code",
   "execution_count": null,
   "metadata": {
    "colab": {
     "base_uri": "https://localhost:8080/"
    },
    "id": "PWz_yGroFxse",
    "outputId": "4ae61d55-51e2-4efa-f217-a8ecb10aa278"
   },
   "outputs": [],
   "source": [
    "import re\n",
    "\n",
    "def stringCleanUpInPlace(dataX):\n",
    "    attributes = dataX.columns\n",
    "\n",
    "    for attribute in attributes:\n",
    "        if type(dataX[attribute].values[0]) == str:\n",
    "            dataX[[attribute]] = dataX[[attribute]].fillna('');\n",
    "            dataX[attribute] = [re.sub('[^A-Za-z0-9.,+\\-]+', '', row + '').upper() for row in dataX[attribute]]\n",
    "    \n",
    "    return dataX\n",
    "\n",
    "            \n",
    "stringCleanUpInPlace(dataTrain)\n",
    "stringCleanUpInPlace(dataTest)\n",
    "\n",
    "## Remove varias filas del conjunto de entranamiento que tienen las columnas del texto libre mal acotadas. Esto pasa\n",
    "## pero al final la fila tiene el mismo número de columnas que las otras, entonces no se cual es realmente el avaluo.\n",
    "## para evitar otros problemas, por ahora lo mejor es borrarlas\n",
    "# print(dataTrain.shape)\n",
    "dataTrain = dataTrain[dataTrain['alcantarillado_en_el_predio'].str.len() < 3]\n",
    "dataTrain = dataTrain[dataTrain['numero_piso'].str.len() < 3]\n",
    "dataTrain = dataTrain[dataTrain['habitaciones'].str.len() < 3]\n",
    "dataTrain = dataTrain[dataTrain['estado_acabados_pisos'].str.len() < 15]\n",
    "dataTrain = dataTrain[dataTrain['metodo_valuacion_1'].str.len() < 20]\n",
    "dataTrain = dataTrain[dataTrain['estrato'].str.len() < 2]\n",
    "\n",
    "### Dado que el Conjunto de datos de entrenamiento tiene algunos valores que no tienen relación con las variables,\n",
    "### En esta parte, limpiamos esos datos que no tienen relación con la respectiva columna.\n",
    "\n",
    "iluminacionValues = ['BUENO', 'REGULAR', 'MALO']#para que solamente queden los que tienen valor Bueno, Regular, Malo\n",
    "dataTrain = dataTrain[dataTrain['iluminacion'].isin(iluminacionValues)]\n",
    "estado_acabados_pisosValues = ['BUENO', 'REGULAR', 'SIN ACABADOS', 'MALO']\n",
    "dataTrain = dataTrain[dataTrain['estado_acabados_pisos'].isin(estado_acabados_pisosValues)]\n",
    "calidad_acabados_pisosValues = ['NORMAL', 'SENCILLO', 'LUJOSO', 'SIN ACABADOS']\n",
    "dataTrain = dataTrain[dataTrain['calidad_acabados_pisos'].isin(calidad_acabados_pisosValues)]\n",
    "motivoValues = ['GARANTA', 'CRDITOHIPOTECARIODEVIVIENDA', 'COMPRADECARTERA',\n",
    "       'LEASINGHABITACIONAL', 'HIPOTECARIOVISTOBUENO', 'REMATES',\n",
    "       'EMPLEADOS', 'DACINENPAGO', 'ACTUALIZACINDEGARANTAS',\n",
    "       'LEASINGVISTOBUENO', 'CRDITOCOMERCIAL',\n",
    "       'ACTUALIZACINDEGARANTASLEASING', 'COLOMEXTHIPOTECARIO', '0']\n",
    "dataTrain = dataTrain[dataTrain['motivo'].isin(motivoValues)]\n",
    "tipo_creditoValues = ['VIVIENDA', 'DIFERENTEDEVIVIENDA']\n",
    "dataTrain = dataTrain[dataTrain['tipo_credito'].isin(tipo_creditoValues)]\n",
    "fachadaValues = ['LADRILLOALAVISTA',\n",
    " 'OTROS',\n",
    " 'GRANIPLAST',\n",
    " 'PAETEYPINTURA',\n",
    " 'CONCRETOTEXTURADO',\n",
    " 'FLOTANTE',]\n",
    "dataTrain = dataTrain[dataTrain['fachada'].isin(fachadaValues)]\n",
    "#data = dataTrain.copy()\n",
    "\n",
    "print(dataTrain.shape)"
   ]
  },
  {
   "cell_type": "code",
   "execution_count": null,
   "metadata": {
    "colab": {
     "base_uri": "https://localhost:8080/"
    },
    "id": "_tRHKE1eT5n2",
    "outputId": "07071ab0-1091-4cc0-9475-2f0ab5cfb232"
   },
   "outputs": [],
   "source": [
    "dataTrain['tipo_subsidio'].unique()"
   ]
  },
  {
   "cell_type": "code",
   "execution_count": null,
   "metadata": {
    "colab": {
     "base_uri": "https://localhost:8080/",
     "height": 728
    },
    "id": "Ohgj3E9cFxse",
    "outputId": "191fff11-20e6-423a-f8f8-002cebd723ec"
   },
   "outputs": [],
   "source": [
    "pd.set_option('display.max_rows', 500)\n",
    "pd.set_option('display.max_columns', 500)\n",
    "#dataTrain = data.copy()\n",
    "#dataTrain = dataTrain[dataTrain['estrato'].str.len() < 2]\n",
    "# print(dataTrain.shape)\n",
    "dataTrain.head(20)"
   ]
  },
  {
   "cell_type": "markdown",
   "metadata": {
    "id": "pI0MUy5-Fxsf"
   },
   "source": [
    "# Clasificar los atributos según el tipo\n",
    "\n",
    "Esta es una de las partes más importantes del proceso y es aquí donde necesitamos mas conocimiento del negocio. Me he basado en el diccionario de datos que entregaron y de la interpretación que pude hacer de los demás atributos. Como se puede ver, no he usado todas las variables. En el listado está solo la mitad de todas las diponibles.\n",
    "\n",
    "Usualmente divido los atributos en numéricos, categóricos nominales y categóricos ordinales y texto no estructurado. Como no pienso usar los datos geoespaciales, voy a considerar por ahora la latitud y la longitud como variables numéricas.\n",
    "\n",
    "**Tarea**\n",
    "\n",
    "Usando la información disponible clasifique los atributos que usará para resolver el problema entre `numericColumns`, `factorColumns`, `levelColumns` y  `textColumns`\n",
    "\n",
    "Las columnas objetivo son: `'valor_total_avaluo', 'valor_uvr', 'valor_avaluo_en_uvr'`\n",
    "Aunque usaremos solo la primera realmente."
   ]
  },
  {
   "cell_type": "code",
   "execution_count": null,
   "metadata": {
    "id": "AVlW2ocRFxsf"
   },
   "outputs": [],
   "source": [
    "from pandas.api.types import CategoricalDtype\n",
    "# Nota: sacamos los siguientes atributos porque el datatest de pruebas los tiene todos en null\n",
    "# - ['valor_area_privada', 'valor_area_libre', 'valor_area_construccion', 'valor_area_garaje', 'valor_area_deposito', 'valor_area_terreno', 'valor_area_otros']\n",
    "\n",
    "numericColumns = ['area_privada', 'contadores_agua', 'unidades', 'fecha_aprobación', 'contadores_luz', 'accesorios',\n",
    "                  'area_valorada', 'vetustez', 'bano_privado', 'bano_social', 'bano_servicio', 'cocina', 'estudio',\n",
    "                  'balcon', 'terraza', 'patio_interior', 'jardin', 'zona_de_ropas', 'zona_verde_privada', 'local',\n",
    "                  'oficina', 'bodega', 'numero_total_de_garajes', 'total_cupos_parquedaro', 'numero_total_depositos',\n",
    "                  'area_privada', 'area_garaje', 'area_deposito', 'area_terreno', 'area_construccion', 'area_otros',\n",
    "                  'Longitud', 'Latitud']\n",
    "\n",
    "# Unordered Categorical (nominal)\n",
    "factorColumns = ['objeto', 'motivo', 'proposito', 'tipo_avaluo', 'tipo_credito','tipo_subsidio',\n",
    "                 'departamento_inmueble', 'municipio_inmueble',\n",
    "                 'sector', 'alcantarillado_en_el_sector', 'acueducto_en_el_sector',\n",
    "                 'gas_en_el_sector', 'energia_en_el_sector', 'telefono_en_el_sector',\n",
    "                 'vias_pavimentadas', 'sardineles_en_las_vias', 'andenes_en_las_vias',\n",
    "                 'barrio_legal', 'topografia_sector', 'paradero', 'alumbrado', 'arborizacion',\n",
    "                 'alamedas', 'ciclo_rutas', 'alcantarillado_en_el_predio', 'acueducto_en_el_predio',\n",
    "                 'gas_en_el_predio', 'energia_en_el_predio', 'telefono_en_el_predio',\n",
    "                 'tipo_inmueble', 'clase_inmueble', 'ocupante', 'sometido_a_propiedad_horizontal',\n",
    "                 'altura_permitida', 'aislamiento_posterior', 'aislamiento_lateral', 'antejardin',\n",
    "                 'indice_ocupacion', 'indice_construccion', 'predio_subdividido_fisicamente',\n",
    "                 'condicion_ph', 'rph', 'porteria', 'citofono', 'bicicletero', 'piscina',\n",
    "                 'tanque_de_agua', 'club_house', 'garaje_visitantes', 'teatrino', 'sauna', 'vigilancia_privada',\n",
    "                 'administracion', 'estructura', 'ajustes_sismoresistentes', 'cubierta', 'fachada',\n",
    "                 'estructura_reforzada', 'danos_previos', 'material_de_construccion', 'detalle_material',\n",
    "                 'irregularidad_planta', 'irregularidad_altura', 'garaje_cubierto_1', 'garaje_doble_1',\n",
    "                 'garaje_paralelo_1', 'garaje_servidumbre_1', 'tipo_deposito', 'area_libre',\n",
    "                 'metodo_valuacion_1',\n",
    "                 'metodo_valuacion_2', 'metodo_valuacion_3', 'metodo_valuacion_4','metodo_valuacion_5',\n",
    "                 'metodo_valuacion_6', 'metodo_valuacion_7', 'metodo_valuacion_8', 'metodo_valuacion_9',\n",
    "                 'garaje_cubierto_2', 'garaje_doble_2', 'garaje_paralelo_2', 'garaje_servidumbre_2',\n",
    "                'garaje_cubierto_3','garaje_doble_3', 'garaje_paralelo_3', 'garaje_servidumbre_3',\n",
    "                'garaje_cubierto_4','garaje_doble_4', 'garaje_paralelo_4', 'garaje_servidumbre_4', 'tipo_vigilancia','tipo_fachada',\n",
    "                'garaje_cubierto_5','garaje_doble_5', 'garaje_paralelo_5', 'garaje_servidumbre_5'\n",
    "                ] #excluimos uso_actual\n",
    "\n",
    "# Ordered Categorical\n",
    "levelColumns = ['condiciones_salubridad', 'iluminacion', 'ventilacion', 'estado_acabados_pisos', 'calidad_acabados_pisos',\n",
    "                'estado_acabados_muros', 'calidad_acabados_muros', 'estado_acabados_techos', 'calidad_acabados_techos',\n",
    "                'estado_acabados_madera', 'calidad_acabados_madera', 'estado_acabados_metal', 'calidad_acabados_metal',\n",
    "                'estado_acabados_banos', 'calidad_acabados_banos', 'estado_acabados_cocina', 'calidad_acabados_cocina',\n",
    "                'tipo_garaje', 'pisos_bodega','estrato']\n",
    "\n",
    "textColumns = ['direccion_inmueble_informe', 'descripcion_general_sector', 'perspectivas_de_valorizacion', 'actualidad_edificadora',\n",
    "               'comportamiento_oferta_demanda', 'descripcion_tipo_inmueble', 'descripcion_uso_inmueble', 'descripcion_clase_inmueble',\n",
    "               'observaciones_generales_inmueble', 'area_actividad', 'observaciones_estructura', 'observaciones_dependencias',\n",
    "               'numero_garaje_1', 'matricula_garaje_1', 'numero_garaje_2', 'matricula_garaje_2', 'numero_garaje_3', 'matricula_garaje_3',\n",
    "               'numero_garaje_4', 'matricula_garaje_4', 'numero_garaje_5', 'matricula_garaje_5', 'numero_deposito_1', 'matricula_inmobiliaria_deposito_1',\n",
    "               'numero_deposito_2', 'matricula_inmobiliaria_deposito_2', 'numero_deposito_3', 'matricula_inmobiliaria_deposito_3', 'numero_deposito_4',\n",
    "               'matricula_inmobiliaria_deposito_4', 'numero_deposito_5', 'matricula_inmobiliaria_deposito_5', 'observaciones_generales_construccion',\n",
    "               'concepto_del_metodo_3', 'concepto_del_metodo_2', 'concepto_del_metodo_1', 'concepto_del_metodo_4', 'concepto_del_metodo_5',\n",
    "               'concepto_del_metodo_6', 'concepto_del_metodo_7', 'concepto_del_metodo_8', 'concepto_del_metodo_9', 'barrio', 'uso_principal_ph',\n",
    "               'observaciones_altura_permitida', 'numero_piso', 'habitaciones','numero_de_edificios', 'estar_habitacion', 'cuarto_servicio',\n",
    "               'observaciones_aislamiento_posterior', 'observaciones_aislamiento_lateral', 'observaciones_antejardin', 'closet', 'sala', 'comedor',\n",
    "               'observaciones_indice_ocupacion', 'observaciones_indice_construccion']\n",
    "\n",
    "target = ['valor_total_avaluo', 'valor_uvr', 'valor_avaluo_en_uvr']\n",
    "\n",
    "\n",
    "def toDataTypesInPlace(dataX):\n",
    "    # Convert to numeric attributes\n",
    "    # Nothing to do in python. Numeric is the dafault\n",
    "    realNumericColumns = []\n",
    "    for col in numericColumns:\n",
    "        if  col in dataX.columns:\n",
    "            realNumericColumns.append(col)\n",
    "            if type(dataX[col].values[0]) == str:\n",
    "                dataX[col] = [re.sub(',', '.', row + '') for row in dataX[col]]\n",
    "                dataX[col] = pd.to_numeric(dataX[col], errors='coerce')\n",
    "  \n",
    "    for col in target:\n",
    "        if  col in dataX.columns:\n",
    "            realNumericColumns.append(col)\n",
    "            if type(dataX[col].values[0]) == str:\n",
    "                dataX[col] = [re.sub(',', '.', row + '') for row in dataX[col]]\n",
    "                dataX[col] = pd.to_numeric(dataX[col], errors='coerce')\n",
    "\n",
    "    # loop to change each column to category type\n",
    "    for col in factorColumns:\n",
    "        if  col in dataX.columns:\n",
    "            cat_type = CategoricalDtype(categories = None, ordered = False)\n",
    "            dataX[col] = dataX[col].astype(dtype = cat_type)\n",
    "\n",
    "    # Conver to levels / Ordinals\n",
    "    for col in levelColumns:\n",
    "      cat_type = CategoricalDtype(categories = None, ordered = True)\n",
    "      dataX[col] = dataX[col].astype(dtype = cat_type)\n",
    "    \n",
    "    \n",
    "    ### Especificamos exactamente el orden que debe llevar cada una de las variables ordinales\n",
    "    col = 'demanda_interes'\n",
    "    cat_type = CategoricalDtype(categories = [ 'NULA', 'DBIL', 'MEDIA', 'FUERTE'], ordered = True)\n",
    "    dataX[col] = dataX[col].astype(dtype = cat_type)\n",
    "\n",
    "    col = 'nivel_equipamiento_comercial'\n",
    "    cat_type = CategoricalDtype(categories = [ 'REGULARMALO', 'ENPROYECTO', 'BUENO',  'MUYBUENO'], ordered = True)\n",
    "    dataX[col] = dataX[col].astype(dtype = cat_type)\n",
    "\n",
    "    col = 'estrato'\n",
    "    cat_type = CategoricalDtype(categories = [ '0', '1', '2', '3', '4', '5', '6', '7'], ordered = True)\n",
    "    dataX[col] = dataX[col].astype(dtype = cat_type)\n",
    "\n",
    "    col = 'transporte'\n",
    "    cat_type = CategoricalDtype(categories = ['MALO', 'REGULAR', 'BUENO'], ordered = True)\n",
    "    dataX[col] = dataX[col].astype(dtype = cat_type)\n",
    "\n",
    "    col = 'iluminacion'\n",
    "    cat_type = CategoricalDtype(categories = ['MALO', 'REGULAR', 'BUENO'], ordered = True)\n",
    "    dataX[col] = dataX[col].astype(dtype = cat_type)\n",
    "\n",
    "    col = 'condiciones_salubridad'\n",
    "    cat_type = CategoricalDtype(categories = ['MALAS', 'REGULARES', 'BUENAS'], ordered = True)\n",
    "    dataX[col] = dataX[col].astype(dtype = cat_type)\n",
    "\n",
    "    col = 'ventilacion'\n",
    "    cat_type = CategoricalDtype(categories = ['MALO', 'REGULAR', 'BUENO'], ordered = True)\n",
    "    dataX[col] = dataX[col].astype(dtype = cat_type)\n",
    "\n",
    "    col = 'estado_acabados_pisos'\n",
    "    cat_type = CategoricalDtype(categories = ['SIN ACABADOS','MALO','REGULAR', 'BUENO'], ordered = True)\n",
    "    dataX[col] = dataX[col].astype(dtype = cat_type)\n",
    "\n",
    "    col = 'calidad_acabados_pisos'\n",
    "    cat_type = CategoricalDtype(categories = ['SIN ACABADOS', 'SENCILLO', 'NORMAL', 'LUJOSO'], ordered = True)\n",
    "    dataX[col] = dataX[col].astype(dtype = cat_type)\n",
    "\n",
    "    col = 'estado_acabados_muros'\n",
    "    cat_type = CategoricalDtype(categories = ['SIN ACABADOS','MALO','REGULAR','BUENO'], ordered = True)\n",
    "    dataX[col] = dataX[col].astype(dtype = cat_type)\n",
    "\n",
    "    col = 'calidad_acabados_muros'\n",
    "    cat_type = CategoricalDtype(categories = ['SIN ACABADOS', 'SENCILLO', 'NORMAL', 'LUJOSO'], ordered = True)\n",
    "    dataX[col] = dataX[col].astype(dtype = cat_type)\n",
    "    \n",
    "    col = 'estado_acabados_techos'\n",
    "    cat_type = CategoricalDtype(categories = ['SIN ACABADOS','MALO', 'REGULAR', 'BUENO'], ordered = True)\n",
    "    dataX[col] = dataX[col].astype(dtype = cat_type)\n",
    "\n",
    "    col = 'calidad_acabados_techos'\n",
    "    cat_type = CategoricalDtype(categories = ['SIN ACABADOS', 'SENCILLO', 'NORMAL', 'LUJOSO'], ordered = True)\n",
    "    dataX[col] = dataX[col].astype(dtype = cat_type)\n",
    "\n",
    "    col = 'estado_acabados_madera'\n",
    "    cat_type = CategoricalDtype(categories = ['SIN ACABADOS','MALO', 'REGULAR', 'BUENO'], ordered = True)\n",
    "    dataX[col] = dataX[col].astype(dtype = cat_type)\n",
    "\n",
    "    col = 'calidad_acabados_madera'\n",
    "    cat_type = CategoricalDtype(categories = ['SIN ACABADOS', 'SENCILLO', 'NORMAL', 'LUJOSO'], ordered = True)\n",
    "    dataX[col] = dataX[col].astype(dtype = cat_type)\n",
    "\n",
    "    col = 'estado_acabados_metal'\n",
    "    cat_type = CategoricalDtype(categories = ['SIN ACABADOS','MALO', 'REGULAR', 'BUENO'], ordered = True)\n",
    "    dataX[col] = dataX[col].astype(dtype = cat_type)\n",
    "\n",
    "    col = 'calidad_acabados_metal'\n",
    "    cat_type = CategoricalDtype(categories = ['SIN ACABADOS', 'SENCILLO', 'NORMAL', 'LUJOSO'], ordered = True)\n",
    "    dataX[col] = dataX[col].astype(dtype = cat_type)\n",
    "\n",
    "    col = 'estado_acabados_banos'\n",
    "    cat_type = CategoricalDtype(categories = ['SIN ACABADOS','MALO', 'REGULAR', 'BUENO'], ordered = True)\n",
    "    dataX[col] = dataX[col].astype(dtype = cat_type)\n",
    "\n",
    "    col = 'calidad_acabados_banos'\n",
    "    cat_type = CategoricalDtype(categories = ['SIN ACABADOS', 'SENCILLO', 'NORMAL', 'LUJOSO'], ordered = True)\n",
    "    dataX[col] = dataX[col].astype(dtype = cat_type)\n",
    "\n",
    "    col = 'estado_acabados_cocina'\n",
    "    cat_type = CategoricalDtype(categories = ['SIN ACABADOS','MALO', 'REGULAR', 'BUENO'], ordered = True)\n",
    "    dataX[col] = dataX[col].astype(dtype = cat_type)\n",
    "\n",
    "    col = 'calidad_acabados_cocina'\n",
    "    cat_type = CategoricalDtype(categories = ['SIN ACABADOS', 'SENCILLO', 'SEMI-INTEGRAL', 'INTEGRAL'], ordered = True)\n",
    "    dataX[col] = dataX[col].astype(dtype = cat_type)\n",
    "\n",
    "    col = 'tipo_garaje'\n",
    "    cat_type = CategoricalDtype(categories = ['NO TIENE', 'COMUNAL', 'PRIVADO', 'EXCLUSIVO'], ordered = True)\n",
    "    dataX[col] = dataX[col].astype(dtype = cat_type)\n",
    "\n",
    "    col = 'pisos_bodega'\n",
    "    cat_type = CategoricalDtype(categories = ['0', '1', '2'], ordered = True)\n",
    "    dataX[col] = dataX[col].astype(dtype = cat_type)\n",
    "\n",
    "    # Delete the textColumns. I dont have time to deal with it now\n",
    "    dataX = dataX[factorColumns + levelColumns + realNumericColumns]\n",
    "    return dataX\n",
    "\n",
    "dataTrain = toDataTypesInPlace(dataTrain);\n",
    "dataTest = toDataTypesInPlace(dataTest);"
   ]
  },
  {
   "cell_type": "markdown",
   "metadata": {
    "id": "4Jf82CKoFxsf"
   },
   "source": [
    "# Miremos las variables nominales\n",
    "\n",
    "Debemos hacer algo con el departamento, el municipio y el area_actividad. Talvez solo debemos considerar los principales valores de estas variables categóricas. He utilizado la visualización durante la curación de los datos. Esto me ha permitido saber que habían errores y así pude quitar todas la filas que estaban dañadas.\n",
    "\n",
    "**Tarea**\n",
    "\n",
    "Muestre diagramas tipo torta para una de las variables categoricas"
   ]
  },
  {
   "cell_type": "code",
   "execution_count": null,
   "metadata": {
    "colab": {
     "base_uri": "https://localhost:8080/",
     "height": 807
    },
    "id": "fb543QEDFxsf",
    "outputId": "abd44f92-79b8-4264-b507-cb81ed74797e"
   },
   "outputs": [],
   "source": [
    "\n",
    "factorColumnsToGraph = ['topografia_sector', 'cubierta']\n",
    "fig = plt.figure(figsize=(30, 60))\n",
    "\n",
    "# Declarando las graficas de tipo Pie para Variables Categoricas\n",
    "x = 1\n",
    "for catAtt in factorColumnsToGraph:\n",
    "    #Completar aqui\n",
    "    ax = fig.add_subplot(1,2,x)\n",
    "    dataTrain[catAtt].value_counts().plot(kind='pie', ax=ax, startangle=115, fontsize=12, rotatelabels = True, labeldistance=1)\n",
    "    plt.title('Pie chart of '+catAtt)\n",
    "    x = x + 1\n",
    "\n",
    "plt.show()"
   ]
  },
  {
   "cell_type": "markdown",
   "metadata": {
    "id": "cStsEuj5Fxsg"
   },
   "source": [
    "# Miremos las variables numéricas (solo la variable objetivo en este caso)"
   ]
  },
  {
   "cell_type": "code",
   "execution_count": null,
   "metadata": {
    "colab": {
     "base_uri": "https://localhost:8080/",
     "height": 278
    },
    "id": "9YMsOZAaFxsg",
    "outputId": "98b54671-f590-4242-d6db-c5a6f91392ad"
   },
   "outputs": [],
   "source": [
    "#dataTrain[dataTrain['valor_total_avaluo'] < 1e9]\n",
    "dataTrain['valor_total_avaluo'].plot(kind='hist', rwidth=1)\n",
    "plt.show()"
   ]
  },
  {
   "cell_type": "markdown",
   "metadata": {
    "id": "-Aq5IJBvFxsg"
   },
   "source": [
    "Es claro que hay unos outlayer que harán que nuestro proceso de predicción sea dificil. Lo mejor es eliminarlos. Por ahora simplemente elimino los registros con valores por encima de 1e9. También lo mejor es eliminar los registros con avaluos muy bajos. No creo que algo en realidad valga menos de $100.000 por ejemplo "
   ]
  },
  {
   "cell_type": "code",
   "execution_count": null,
   "metadata": {
    "colab": {
     "base_uri": "https://localhost:8080/",
     "height": 313
    },
    "id": "Q3lst67jFxsg",
    "outputId": "6321104c-e43d-42d7-f4ea-37ff74e3fbea"
   },
   "outputs": [],
   "source": [
    "dataTrain[dataTrain['valor_total_avaluo'] < 1e9]['valor_total_avaluo'].plot(kind='hist', rwidth=1)\n",
    "plt.show()\n",
    "print(sum(dataTrain['valor_total_avaluo'] > 1e9))\n",
    "print(sum(dataTrain['valor_total_avaluo'] <= 1000000))"
   ]
  },
  {
   "cell_type": "markdown",
   "metadata": {
    "id": "wERrv0_4Fxsg"
   },
   "source": [
    "**Tarea**\n",
    "\n",
    "Removemos los ejemplos donde:\n",
    "* dataTrain['valor_total_avaluo'] < 1e9\n",
    "* dataTrain['valor_total_avaluo'] > 1000000"
   ]
  },
  {
   "cell_type": "code",
   "execution_count": null,
   "metadata": {
    "colab": {
     "base_uri": "https://localhost:8080/"
    },
    "id": "2Dn7NYedFxsg",
    "outputId": "f8fdd523-aa39-43db-953f-57913902cd0d"
   },
   "outputs": [],
   "source": [
    "dataTrain = dataTrain[dataTrain['valor_total_avaluo'] < 1e9 ]\n",
    "dataTrain = dataTrain[dataTrain['valor_total_avaluo'] > 100000 ]\n",
    "dataTrain.shape"
   ]
  },
  {
   "cell_type": "code",
   "execution_count": null,
   "metadata": {
    "id": "kColOvh62nKh"
   },
   "outputs": [],
   "source": [
    "# Dado que la columna demanda_interes está duplicada, borramos una de las dos en ambos DataSets\n",
    "dataTrain = dataTrain.loc[:,~dataTrain.columns.duplicated()]\n",
    "dataTest = dataTest.loc[:,~dataTest.columns.duplicated()]"
   ]
  },
  {
   "cell_type": "markdown",
   "metadata": {
    "id": "x4OTZJi-Fxsg"
   },
   "source": [
    "# Miremos las variables ordinales\n",
    "\n",
    "**Tarea**\n",
    "\n",
    "Muestre diagramas tipo torta para una de las variables ordinales"
   ]
  },
  {
   "cell_type": "code",
   "execution_count": null,
   "metadata": {
    "colab": {
     "base_uri": "https://localhost:8080/",
     "height": 808
    },
    "id": "uSgA0bZCFxsh",
    "outputId": "0ba99fb0-dc4d-4132-f91a-9e853fdd7cd9"
   },
   "outputs": [],
   "source": [
    "levelColumnsToGraph = ['estrato', 'calidad_acabados_cocina']\n",
    "fig = plt.figure(figsize=(30, 60))\n",
    "x = 1\n",
    "for catAtt in levelColumnsToGraph:\n",
    "    ax = fig.add_subplot(1,2,x)\n",
    "    dataTrain[catAtt].value_counts().plot(kind='pie', ax=ax, startangle=115, fontsize=12, rotatelabels = True, labeldistance=0.9)\n",
    "    plt.title('Pie chart of '+catAtt)\n",
    "    x = x + 1\n",
    "plt.show()"
   ]
  },
  {
   "cell_type": "markdown",
   "metadata": {
    "id": "B0UqNBLJFxsh"
   },
   "source": [
    "# Separamos los datos de entramiento \n",
    "\n",
    "En nuestro conjunto de entramiento, tenemos los atributos descriptivos y la variable de interés(avaluo de la vivienda) en la misma matriz. A continuación debe separar los datos en `dataX` y `dataY`\n",
    "\n",
    "**Tarea**\n",
    "\n",
    "Separar los datos de manera que en dataY solo tenga el atributo target[0] y en dataX todos los atributos que no hagan parte de la lista target."
   ]
  },
  {
   "cell_type": "code",
   "execution_count": null,
   "metadata": {
    "id": "wbH4BGN9Fxsh"
   },
   "outputs": [],
   "source": [
    "dataY = dataTrain[target[0]]\n",
    "dataX = dataTrain.drop(target, axis = 1)\n",
    "## Eliminamos las columnas de target en DataSet\n",
    "dataTest = dataTest.drop(target, axis = 1) "
   ]
  },
  {
   "cell_type": "markdown",
   "metadata": {
    "id": "wtCOtvYOFxsh"
   },
   "source": [
    "# Convertir factores a dummy y levels a numeric\n",
    "\n",
    "Ahora debemos convertir los atributos nominales y ordinales en variables numéricas. Adicionalmente debemos eleminar los datos con valores no definidos. "
   ]
  },
  {
   "cell_type": "code",
   "execution_count": null,
   "metadata": {
    "id": "2dIoaDCrFxsi"
   },
   "outputs": [],
   "source": [
    "def dataToNumeric(dataIn, factorColumns, levelColumns):\n",
    "    columns = dataIn.columns\n",
    "    for catAtt in factorColumns:\n",
    "        if catAtt in columns:\n",
    "            dummies = pd.get_dummies(dataIn[catAtt], prefix = catAtt)\n",
    "            dataIn = pd.concat([dataIn.drop(catAtt, axis = 1), dummies], axis = 1)\n",
    "            \n",
    "\n",
    "    for catAtt in levelColumns:\n",
    "        if catAtt in columns:\n",
    "            dataIn[catAtt] = dataIn[catAtt].cat.codes\n",
    "    \n",
    "    return dataIn\n",
    "\n",
    "\n",
    "# Fill NAN in numerical attributes\n",
    "def fillNaNWithMeanInPlace(dataX):\n",
    "    foo = dataX.isnull().sum()\n",
    "    index = 0\n",
    "    for f in foo:\n",
    "        if f > 0:\n",
    "            colname = dataX.columns[index]\n",
    "            print(colname)\n",
    "            dataX[colname] = dataX[colname].fillna(dataX[colname].median())\n",
    "            #else:\n",
    "            #    dataX[colname] = dataX[colname].cat.add_categories('DESC')\n",
    "            #    dataX[colname] = dataX[colname].fillna('DESC')\n",
    "        index = index + 1\n",
    "    return dataX"
   ]
  },
  {
   "cell_type": "markdown",
   "metadata": {
    "id": "JaH247B4Fxsi"
   },
   "source": [
    "**Tarea**\n",
    "\n",
    "Use las funciones definidas anteriormente para convertir todos los atributos a numéricos y para eliminar los datos faltantes."
   ]
  },
  {
   "cell_type": "code",
   "execution_count": null,
   "metadata": {
    "colab": {
     "base_uri": "https://localhost:8080/"
    },
    "id": "NnZd-JSzFxsj",
    "outputId": "e72a2c43-b692-451d-81bf-708b673f9db9"
   },
   "outputs": [],
   "source": [
    "import warnings\n",
    "data2 = dataX.copy()\n",
    "        \n",
    "data2 = dataToNumeric(data2, factorColumns, levelColumns)\n",
    "dataTest = dataToNumeric(dataTest, factorColumns, levelColumns)\n",
    "\n",
    "##Para manejar un error que salía en las columnas donde todos los valores son Nan\n",
    "with warnings.catch_warnings():\n",
    "    warnings.simplefilter(\"ignore\", category=RuntimeWarning)\n",
    "    # foo = np.nanmean(x, axis=1)\n",
    "    data2 = fillNaNWithMeanInPlace(data2)\n",
    "    dataTest = fillNaNWithMeanInPlace(dataTest)"
   ]
  },
  {
   "cell_type": "code",
   "execution_count": null,
   "metadata": {
    "colab": {
     "base_uri": "https://localhost:8080/",
     "height": 304
    },
    "id": "QTGWSoNEzSk0",
    "outputId": "a210153e-752e-49ab-ef34-928bbbf925fa"
   },
   "outputs": [],
   "source": [
    "data2.head()"
   ]
  },
  {
   "cell_type": "markdown",
   "metadata": {
    "id": "o_rbKR5dFxsj"
   },
   "source": [
    "**Tarea**\n",
    "\n",
    "Elimine del conjunto de entrenamiento y test las columnas 'Latitud' y 'Longitud'.\n",
    "\n",
    "Ayuda: Use la función drop con axis=1 del dataframe"
   ]
  },
  {
   "cell_type": "code",
   "execution_count": null,
   "metadata": {
    "id": "0P7EfltWFxsj"
   },
   "outputs": [],
   "source": [
    "data2.drop(['Latitud', 'Longitud'], axis = 1, inplace=True)\n",
    "dataTest.drop(['Latitud', 'Longitud'], axis = 1, inplace=True)"
   ]
  },
  {
   "cell_type": "code",
   "execution_count": null,
   "metadata": {
    "colab": {
     "base_uri": "https://localhost:8080/"
    },
    "id": "YnHwshIHFxsj",
    "outputId": "269bc884-ed3a-4083-93e1-a6e39d8a4423"
   },
   "outputs": [],
   "source": [
    "print(data2.shape)\n",
    "print(dataTest.shape)"
   ]
  },
  {
   "cell_type": "markdown",
   "metadata": {
    "id": "u9PwhWF0Fxsj"
   },
   "source": [
    "Valores esperados:\n",
    "    \n",
    "```\n",
    "(9310, 859)\n",
    "(3175, 521)\n",
    "```\n",
    "    "
   ]
  },
  {
   "cell_type": "markdown",
   "metadata": {
    "id": "N3_ptWbtFxsj"
   },
   "source": [
    "# Primer experimento de datamining\n",
    "\n",
    "Ajustamos la escala de las variables antes de comenzar a probar modelos. Y vamos a fijar el mismo conjunto de entrenamiento y test para todos los modelos de aqui hacia abajo. Para validar el desempeño de nuestro modelo en datos desconocidos, partimos nuestro conjunto de entranmiento en 2:\n",
    "* Entranamiento: 75%\n",
    "* Validación: 25%\n",
    "\n",
    "Adicionalmente los datos x e y de entrenamiento y validación se deben estandarizar. \n",
    "\n",
    "**Tarea** \n",
    "\n",
    "Use la función `train_test_split` para partir los datos en entrenamiento y pruebsa."
   ]
  },
  {
   "cell_type": "code",
   "execution_count": null,
   "metadata": {
    "id": "LzkdPxvXFxsj"
   },
   "outputs": [],
   "source": [
    "from sklearn.preprocessing import StandardScaler\n",
    "\n",
    "# NN is sensitive to data scale. We must normilize\n",
    "scaler = StandardScaler()  \n",
    "scaler.fit(data2)\n",
    "y = dataTrain[target[0]] / 1e9\n",
    "\n",
    "# Se divide el set de datos en dos conjuntos train y test\n",
    "trainX, testX, trainY, testY = train_test_split(data2, y, test_size = 0.25, train_size = 0.75)\n",
    "\n",
    "# Don't cheat - fit only on training data\n",
    "trainXX = scaler.transform(trainX)  \n",
    "# apply same transformation to test data\n",
    "testXX = scaler.transform(testX)"
   ]
  },
  {
   "cell_type": "code",
   "execution_count": null,
   "metadata": {
    "colab": {
     "base_uri": "https://localhost:8080/"
    },
    "id": "GLIk1fKbFxsk",
    "outputId": "eea4f192-1677-4930-a484-86e2f85f7891"
   },
   "outputs": [],
   "source": [
    "trainX.shape"
   ]
  },
  {
   "cell_type": "markdown",
   "metadata": {
    "id": "DVTkyIQvFxsk"
   },
   "source": [
    "**Salida esperada**\n",
    "\n",
    "```\n",
    "(6982, 859)\n",
    "```"
   ]
  },
  {
   "cell_type": "markdown",
   "metadata": {
    "id": "yW5Yd8lNFxsk"
   },
   "source": [
    "# Probemos con un modelo que se pueda interpretar. \n",
    "\n",
    "La regresion lineal es el método más sencillo que podemos usar. Use la clase `LinearRegression` de `sklearn.linear_model` y verifique los resultado"
   ]
  },
  {
   "cell_type": "code",
   "execution_count": null,
   "metadata": {
    "colab": {
     "base_uri": "https://localhost:8080/",
     "height": 586
    },
    "id": "8ZjpQQ4UFxsk",
    "outputId": "6b299c97-44e3-4b2d-a708-fc7a245ca610"
   },
   "outputs": [],
   "source": [
    "from sklearn.linear_model import LinearRegression\n",
    "\n",
    "modelLM = LinearRegression()\n",
    "modelLM.fit(trainXX, trainY);\n",
    "\n",
    "plotScatterModel(trainXX, trainY, testXX, testY, modelLM)"
   ]
  },
  {
   "cell_type": "markdown",
   "metadata": {
    "id": "oZPuZ3jqFxsk"
   },
   "source": [
    "Claramente un modelo lineal no resuelve el problema. Entonces si queremos poder interpretar el resultado vamos a tener que probar con otra cosa"
   ]
  },
  {
   "cell_type": "markdown",
   "metadata": {
    "id": "c8pjFPI3Fxsk"
   },
   "source": [
    "# Decision Tree Regression.\n",
    "\n",
    "**Tarea**\n",
    "\n",
    "Una alternativa para obtener un modelo interpretable es usando árboles como modelo de regresión y preguntar por la importancia de las características. Use la clase`DecisionTreeRegressor` de `sklearn.tree`\n",
    "\n",
    "Siguiendo el mismo esquema del modelo anterior implemente las intrucciones de la celda siguiente."
   ]
  },
  {
   "cell_type": "code",
   "execution_count": null,
   "metadata": {
    "colab": {
     "base_uri": "https://localhost:8080/",
     "height": 586
    },
    "id": "HvDDwa1KFxsk",
    "outputId": "4b95bfdd-efaf-431a-f6d4-95bc6c12fd6f"
   },
   "outputs": [],
   "source": [
    "from sklearn.tree import DecisionTreeRegressor\n",
    "modelDTR = DecisionTreeRegressor(max_depth=6)\n",
    "modelDTR.fit(trainXX, trainY)\n",
    "\n",
    "plotScatterModel(trainXX, trainY, testXX, testY, modelDTR)"
   ]
  },
  {
   "cell_type": "markdown",
   "metadata": {
    "id": "dZcaatNXFxsl"
   },
   "source": [
    "Con estas líneas debería poder mostrar cual es la importancia de cada uno de los atributos del conjunto de datos. "
   ]
  },
  {
   "cell_type": "code",
   "execution_count": null,
   "metadata": {
    "colab": {
     "base_uri": "https://localhost:8080/",
     "height": 569
    },
    "id": "nD1ukUVuFxsl",
    "outputId": "5e978218-1f1d-4771-ce32-b7dc305609ad"
   },
   "outputs": [],
   "source": [
    "attributes = trainX.columns[modelDTR.feature_importances_> 0]\n",
    "importances = modelDTR.feature_importances_[modelDTR.feature_importances_> 0]\n",
    "reportOfAttributes = pd.DataFrame({'attribute': attributes, 'importances': importances})\n",
    "reportOfAttributes = reportOfAttributes.sort_values(by = 'importances',  ascending=False)\n",
    "reportOfAttributes = reportOfAttributes.set_index('attribute')\n",
    "reportOfAttributes.plot(kind='bar', figsize=(20, 5)).set_title('Feature importance Decision Tree Regression')\n",
    "sum(modelDTR.feature_importances_> 0)"
   ]
  },
  {
   "cell_type": "markdown",
   "metadata": {
    "id": "NI9dNk5gFxsl"
   },
   "source": [
    "# XGBOOST\n",
    "\n",
    "**Tarea**\n",
    "\n",
    "Ahora entrene un modelo `XGBOOST`. Use estos parámetros: \n",
    "\n",
    "* objective='reg:squarederror\n",
    "* colsample_bytree=0.2\n",
    "* learning_rate=0.1\n",
    "* max_depth=5\n",
    "* alpha=5\n",
    "* n_estimators=200"
   ]
  },
  {
   "cell_type": "code",
   "execution_count": null,
   "metadata": {
    "colab": {
     "base_uri": "https://localhost:8080/",
     "height": 586
    },
    "id": "0EtDVtRIFxsm",
    "outputId": "9f4344a2-0ddf-4d61-99cb-cc4bdd9b4bcb"
   },
   "outputs": [],
   "source": [
    "xg_reg = xgboost.XGBRegressor(objective='reg:squarederror', colsample_bytree=0.2, learning_rate=0.1, max_depth=5, alpha=5, n_estimators=200)\n",
    "xg_reg.fit(trainXX, trainY)\n",
    "\n",
    "plotScatterModel(trainXX, trainY, testXX, testY, xg_reg)"
   ]
  },
  {
   "cell_type": "markdown",
   "metadata": {
    "id": "k30YBn-wFxsm"
   },
   "source": [
    "**Tarea**\n",
    "\n",
    "Nuevamente, muestre la importancia de cada uno de los atributos según el algoritmo XGBoost"
   ]
  },
  {
   "cell_type": "code",
   "execution_count": null,
   "metadata": {
    "colab": {
     "base_uri": "https://localhost:8080/",
     "height": 794
    },
    "id": "M1dUapNAFxsm",
    "outputId": "05e773c7-6b3e-4ed1-dc83-4cc509fe28c9"
   },
   "outputs": [],
   "source": [
    "attributes = trainX.columns[xg_reg.feature_importances_> 0]\n",
    "importances = xg_reg.feature_importances_[xg_reg.feature_importances_> 0]\n",
    "reportOfAttributes = pd.DataFrame({'attribute': attributes, 'importances': importances})\n",
    "reportOfAttributes = reportOfAttributes.sort_values(by = 'importances',  ascending=False)\n",
    "reportOfAttributes = reportOfAttributes.set_index('attribute')\n",
    "reportOfAttributes.plot(kind='bar', figsize=(20, 5)).set_title('Feature importance XGBOOST')\n",
    "sum(xg_reg.feature_importances_> 0)"
   ]
  },
  {
   "cell_type": "markdown",
   "metadata": {
    "id": "M8ARMB96Fxsn"
   },
   "source": [
    "# ADABoost\n",
    "\n",
    "Entrene un modelo ADABoost"
   ]
  },
  {
   "cell_type": "code",
   "execution_count": null,
   "metadata": {
    "colab": {
     "base_uri": "https://localhost:8080/",
     "height": 586
    },
    "id": "H72xmZnUFxsn",
    "outputId": "1dea5c46-1f75-4ad6-ab43-093a3748d5a9"
   },
   "outputs": [],
   "source": [
    "# ADABoost\n",
    "from sklearn.ensemble import AdaBoostRegressor\n",
    "modelADA = AdaBoostRegressor(n_estimators=200, learning_rate=0.1)\n",
    "modelADA.fit(trainXX, trainY)\n",
    "\n",
    "plotScatterModel(trainXX, trainY, testXX, testY, modelADA)"
   ]
  },
  {
   "cell_type": "markdown",
   "metadata": {
    "id": "Gzj4w9p4Fxsn"
   },
   "source": [
    "**Tarea**\n",
    "\n",
    "Muestre la importancia de los atributos para el modelo ADABoost"
   ]
  },
  {
   "cell_type": "code",
   "execution_count": null,
   "metadata": {
    "colab": {
     "base_uri": "https://localhost:8080/",
     "height": 666
    },
    "id": "70pkOjnxFxso",
    "outputId": "38ebeeae-89c9-4271-ad88-1480210694d2"
   },
   "outputs": [],
   "source": [
    "attributes = trainX.columns[modelADA.feature_importances_> 0]\n",
    "importances = modelADA.feature_importances_[modelADA.feature_importances_> 0]\n",
    "reportOfAttributes = pd.DataFrame({'attribute': attributes, 'importances': importances})\n",
    "reportOfAttributes = reportOfAttributes.sort_values(by = 'importances',  ascending=False)\n",
    "reportOfAttributes = reportOfAttributes.set_index('attribute')\n",
    "reportOfAttributes.plot(kind='bar', figsize=(20, 5)).set_title('Feature importance ADABoost')\n",
    "sum(modelADA.feature_importances_> 0)"
   ]
  },
  {
   "cell_type": "markdown",
   "metadata": {
    "id": "NNRMYygMFxso"
   },
   "source": [
    "# Random Forest regressor\n",
    "\n",
    "**Tarea**\n",
    "\n",
    "Entrene un modelo de regresión Random Forest. Use la clase `RandomForestRegressor` de `sklearn.ensemble`"
   ]
  },
  {
   "cell_type": "code",
   "execution_count": null,
   "metadata": {
    "colab": {
     "base_uri": "https://localhost:8080/",
     "height": 586
    },
    "id": "QZfSQFPQFxso",
    "outputId": "9df57bc5-71ad-484b-8cbf-7c89b180865f"
   },
   "outputs": [],
   "source": [
    "# RadomForest\n",
    "from sklearn.ensemble import RandomForestRegressor\n",
    "modelRFR = RandomForestRegressor(max_depth=5, n_estimators=200)\n",
    "modelRFR.fit(trainXX, trainY)\n",
    "\n",
    "plotScatterModel(trainXX, trainY, testXX, testY, modelRFR)"
   ]
  },
  {
   "cell_type": "markdown",
   "metadata": {
    "id": "FWMjpHYlFxso"
   },
   "source": [
    "**Tarea**\n",
    "\n",
    "Muestre la importancia de los atributos para el modelo random forest."
   ]
  },
  {
   "cell_type": "code",
   "execution_count": null,
   "metadata": {
    "colab": {
     "base_uri": "https://localhost:8080/",
     "height": 794
    },
    "id": "Z7djqlCVFxso",
    "outputId": "bd0aacdd-293e-40b0-9562-defa42b9e395"
   },
   "outputs": [],
   "source": [
    "attributes = trainX.columns[modelRFR.feature_importances_> 0]\n",
    "importances = modelRFR.feature_importances_[modelRFR.feature_importances_> 0]\n",
    "reportOfAttributes = pd.DataFrame({'attribute': attributes, 'importances': importances})\n",
    "reportOfAttributes = reportOfAttributes.sort_values(by = 'importances',  ascending=False)\n",
    "reportOfAttributes = reportOfAttributes.set_index('attribute')\n",
    "reportOfAttributes.plot(kind='bar', figsize=(20, 5)).set_title('Feature importance Random Forest regressor')\n",
    "sum(modelRFR.feature_importances_> 0)"
   ]
  },
  {
   "cell_type": "markdown",
   "metadata": {
    "id": "VwEjBT7DFxsp"
   },
   "source": [
    "# Red neuronal\n",
    "\n",
    "**Tarea**\n",
    "\n",
    "Entrene una red neuronal para este problema. Busque de manera libre los parámetros que mejor le funcionen."
   ]
  },
  {
   "cell_type": "code",
   "execution_count": null,
   "metadata": {
    "colab": {
     "base_uri": "https://localhost:8080/",
     "height": 586
    },
    "id": "YDPJ7SVxFxsp",
    "outputId": "312bce2b-ded7-4282-f5c0-6d44ab7f7c5b"
   },
   "outputs": [],
   "source": [
    "from sklearn.neural_network import MLPRegressor\n",
    "from keras.models import Sequential\n",
    "from keras.layers import Dense\n",
    "from keras.utils import normalize\n",
    "from keras.optimizers import Adamax\n",
    "\n",
    "# Completar\n",
    "trainXX = normalize(trainXX, axis=1)\n",
    "testXX = normalize(testXX, axis=1)\n",
    "\n",
    "neural_network_model = MLPRegressor(batch_size=32, hidden_layer_sizes=1)\n",
    "neural_network_model.fit(trainXX, trainY)\n",
    "\n",
    "# Print report\n",
    "plotScatterModel(trainXX, trainY, testXX, testY, neural_network_model)"
   ]
  },
  {
   "cell_type": "markdown",
   "metadata": {
    "id": "PRIqs6bXFxsp"
   },
   "source": [
    "# Selección de atributos\n",
    "\n",
    "**Tarea**\n",
    "\n",
    "Ahora, para hacer que el modelo XGBoost se demore menos entrenando, use solo los mejores atributos del modelo ADABoost, como atributos de entrada al modelo XGBoost. \n",
    "\n",
    "Para esto puede seleccionar las columnas de la siguiente manera:\n",
    "\n",
    "```py\n",
    "data3 = data2.loc[:, data2.columns[modelAda.feature_importances_> 0].values]\n",
    "```"
   ]
  },
  {
   "cell_type": "code",
   "execution_count": null,
   "metadata": {
    "colab": {
     "base_uri": "https://localhost:8080/",
     "height": 258
    },
    "id": "wyxxSvIHFxsp",
    "outputId": "bc31cf90-5988-45db-f099-24251f742efe"
   },
   "outputs": [],
   "source": [
    "# Usemos los mejores atributos del modelo ADABoost para entrenar el resto de modelos de aqui en adelante\n",
    "data2.shape\n",
    "data3 = data2.loc[:, data2.columns[modelADA.feature_importances_ >= 0.000685].values]\n",
    "data3.head()"
   ]
  },
  {
   "cell_type": "code",
   "execution_count": null,
   "metadata": {
    "id": "rFmtcrx0Fxsp"
   },
   "outputs": [],
   "source": [
    "scaler = StandardScaler()\n",
    "scaler.fit(data3)\n",
    "y = dataTrain[target[0]] / 1e9\n",
    "\n",
    "# Se divide el set de datos en dos conjuntos train y test\n",
    "trainX, testX, trainY, testY = train_test_split(data3, y, test_size = 0.25)\n",
    "\n",
    "# Don't cheat - fit only on training data\n",
    "trainXX = scaler.transform(trainX)\n",
    "# apply same transformation to test data\n",
    "testXX = scaler.transform(testX)"
   ]
  },
  {
   "cell_type": "markdown",
   "metadata": {
    "id": "z2k5kILAFxsp"
   },
   "source": [
    "**Tarea**\n",
    "\n",
    "Entrene un nuevo modelo XGBoost con el nuevo conjunto de datos. Compare los resultados y el tiempo requerido para el entrenamiento."
   ]
  },
  {
   "cell_type": "code",
   "execution_count": null,
   "metadata": {
    "colab": {
     "base_uri": "https://localhost:8080/",
     "height": 586
    },
    "id": "mx20LGGxFxsp",
    "outputId": "438d0f34-5e5e-4f69-e283-1a85014b6565"
   },
   "outputs": [],
   "source": [
    "xg_reg2 = xgboost.XGBRegressor(objective='reg:squarederror', colsample_bytree=0.2, learning_rate=0.1, max_depth=5, alpha=5, n_estimators=200)\n",
    "xg_reg2.fit(trainXX, trainY)\n",
    "\n",
    "plotScatterModel(trainXX, trainY, testXX, testY, xg_reg2)"
   ]
  },
  {
   "cell_type": "code",
   "execution_count": null,
   "metadata": {
    "colab": {
     "base_uri": "https://localhost:8080/",
     "height": 1000
    },
    "id": "tgT5qaJtGlKs",
    "outputId": "f3ca1a7d-4332-403b-e2de-61f3b4eba2e0"
   },
   "outputs": [],
   "source": [
    "### Esto lo hicimos con el proposito de saber cuales son los features mas importantes para entrenar el próximo\n",
    "### módelo de XGBOOST. Tomamos hasta Feature: garaje_doble_2_0 \tImportance: 0.000685\n",
    "attributes = data2.columns[modelADA.feature_importances_> 0]\n",
    "importances = modelADA.feature_importances_[modelADA.feature_importances_> 0]\n",
    "reportOfAttributes = pd.DataFrame({'attribute': attributes, 'importances': importances})\n",
    "reportOfAttributes = reportOfAttributes.sort_values(by = 'importances',  ascending=False)\n",
    "reportOfAttributes = reportOfAttributes.set_index('attribute')\n",
    "reportOfAttributes"
   ]
  },
  {
   "cell_type": "markdown",
   "metadata": {
    "id": "CUlhsR_lFxsp"
   },
   "source": [
    "# Predecir\n",
    "\n",
    "Use el mejor modelo obtenido para predecir los precios de todas la viviendas del conjunto de `dataTest`. Guarde el resultado en un archivo 'predicciones.csv'"
   ]
  },
  {
   "cell_type": "markdown",
   "metadata": {
    "id": "zMWV2wvYFxsp"
   },
   "source": [
    "Para entregar, deberá poner en una carpeta este notebook, junto con el archivo de las las predicciones para el conjunto de test"
   ]
  },
  {
   "cell_type": "code",
   "execution_count": null,
   "metadata": {
    "colab": {
     "base_uri": "https://localhost:8080/",
     "height": 258
    },
    "id": "UOVaNuQ2Fxsq",
    "outputId": "d572aeeb-5271-47a3-b0c2-eb77a26dca2f"
   },
   "outputs": [],
   "source": [
    "## Seleccionamos de DataTest las variables que tienen mayor incidencia en este\n",
    "## problema según AdaBoost\n",
    "data4 = dataTest.loc[:, data2.columns[modelADA.feature_importances_ >= 0.000685].values]\n",
    "data4.head()"
   ]
  },
  {
   "cell_type": "code",
   "execution_count": null,
   "metadata": {
    "colab": {
     "base_uri": "https://localhost:8080/"
    },
    "id": "oxdLWFQODjq0",
    "outputId": "495a42fc-0011-44f6-a275-5eea5c97c4ab"
   },
   "outputs": [],
   "source": [
    "## Realizamos la predicción utilizando el segundo modelo XGBOOST\n",
    "predictions = xg_reg2.predict(data4.values) * 1e9\n",
    "predictions"
   ]
  },
  {
   "cell_type": "code",
   "execution_count": null,
   "metadata": {
    "colab": {
     "base_uri": "https://localhost:8080/",
     "height": 238
    },
    "id": "ppSqNkdsFJRE",
    "outputId": "3bc580ec-d4b9-4e20-f347-255ce2e22ec0"
   },
   "outputs": [],
   "source": [
    "## Formateamos la salida de las predicciones en un nuevo DataFrame\n",
    "output = pd.DataFrame(data=predictions, index=dataTest.index)\n",
    "output.head()"
   ]
  },
  {
   "cell_type": "code",
   "execution_count": null,
   "metadata": {
    "id": "UTXD9IugH_pK"
   },
   "outputs": [],
   "source": [
    "## Escribimos el DataFrame 'output' en un archivo CSV\n",
    "output.to_csv('base_evaluada.csv')"
   ]
  }
 ],
 "metadata": {
  "colab": {
   "collapsed_sections": [],
   "name": "proyecto_preguntas.ipynb",
   "provenance": []
  },
  "kernelspec": {
   "display_name": "Python 3",
   "language": "python",
   "name": "python3"
  },
  "language_info": {
   "codemirror_mode": {
    "name": "ipython",
    "version": 3
   },
   "file_extension": ".py",
   "mimetype": "text/x-python",
   "name": "python",
   "nbconvert_exporter": "python",
   "pygments_lexer": "ipython3",
   "version": "3.6.7"
  }
 },
 "nbformat": 4,
 "nbformat_minor": 1
}
